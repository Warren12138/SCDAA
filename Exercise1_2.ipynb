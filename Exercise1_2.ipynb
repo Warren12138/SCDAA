{
 "cells": [
  {
   "cell_type": "markdown",
   "id": "4e76fc5e-aacf-47ec-a492-f3c1ba5c6efa",
   "metadata": {},
   "source": [
    "# Exercise 1.2\n",
    "## This *.ipynb file contains:\n",
    "\n"
   ]
  },
  {
   "cell_type": "code",
   "execution_count": 2,
   "id": "d35ad415-7e28-4353-ac59-5c0be6ad18ae",
   "metadata": {
    "tags": []
   },
   "outputs": [],
   "source": [
    "import numpy as np\n",
    "import torch\n",
    "from Exercise1_1 import LQRSolver"
   ]
  },
  {
   "cell_type": "code",
   "execution_count": 3,
   "id": "553b9e02-cd9c-44e5-9307-71ff93f64d7a",
   "metadata": {
    "tags": []
   },
   "outputs": [],
   "source": [
    "H = torch.tensor([[1.0, 2.0], [-2.0, -3.0]], dtype=torch.double)\n",
    "M = torch.tensor([[1.0,0.0], [0.0,1.0]], dtype=torch.double)\n",
    "sigma = torch.tensor([[[0.5249],[0.4072]]], dtype=torch.double) \n",
    "C = torch.tensor([[2.0, 0.0], [0.0, 1.0]], dtype=torch.double)  # Positive semi-definite\n",
    "D = torch.tensor([[1.0, 0.0], [0.0, 1.0]], dtype=torch.double)  # Positive definite\n",
    "R = torch.tensor([[1.0, 0.0], [0.0, 1.0]], dtype=torch.double)  # Positive semi-definite\n",
    "T = torch.tensor(1.0, dtype=torch.double)\n",
    "method = 'rk4'"
   ]
  },
  {
   "cell_type": "code",
   "execution_count": 6,
   "id": "ddda88eb-317d-4997-8519-7b51ee229593",
   "metadata": {
    "tags": []
   },
   "outputs": [],
   "source": [
    "solver = LQRSolver(H, M, sigma, C, D, R, T, method)"
   ]
  },
  {
   "cell_type": "code",
   "execution_count": 8,
   "id": "7905af2e-9f86-42c2-a477-9c26338f3f78",
   "metadata": {
    "tags": []
   },
   "outputs": [],
   "source": [
    "N = 5000\n",
    "t0 = torch.tensor(0.1,dtype = torch.double)"
   ]
  },
  {
   "cell_type": "code",
   "execution_count": 10,
   "id": "8ad3095b-3160-4290-9e32-49ec74076bb6",
   "metadata": {
    "tags": []
   },
   "outputs": [],
   "source": [
    "#tau = torch.clone((T-t0)/N)"
   ]
  },
  {
   "cell_type": "code",
   "execution_count": 12,
   "id": "3ccc8999-3471-4954-94a3-c113d934288b",
   "metadata": {
    "tags": []
   },
   "outputs": [],
   "source": [
    "time_grid_for_MC = torch.linspace(t0,T,N,dtype = torch.double)"
   ]
  },
  {
   "cell_type": "code",
   "execution_count": 14,
   "id": "1f4897b6-7637-4642-af62-49595967c301",
   "metadata": {
    "tags": []
   },
   "outputs": [],
   "source": [
    "X0 = 0.5*torch.ones([1,1,2], dtype=torch.double)\n",
    "dt_for_MC = time_grid_for_MC[1:]-time_grid_for_MC[:-1]\n",
    "S = solver.solve_riccati_ode(time_grid_for_MC.unsqueeze(0)).squeeze()\n",
    "multpX = - M@torch.linalg.inv(D)@M.T\n",
    "multpalp = -torch.linalg.inv(D)@M.T@S"
   ]
  },
  {
   "cell_type": "code",
   "execution_count": 16,
   "id": "3a785863-22ce-49fe-bf09-fbb7835e83c4",
   "metadata": {
    "tags": []
   },
   "outputs": [
    {
     "name": "stdout",
     "output_type": "stream",
     "text": [
      "tensor(0.8088, dtype=torch.float64)\n"
     ]
    }
   ],
   "source": [
    "print(solver.value_function(t0.unsqueeze(0),X0))"
   ]
  },
  {
   "cell_type": "code",
   "execution_count": 18,
   "id": "7d48a374-da0e-4f82-aa85-136e85177b69",
   "metadata": {},
   "outputs": [
    {
     "name": "stdout",
     "output_type": "stream",
     "text": [
      "tensor(0.8088, dtype=torch.float64)\n"
     ]
    }
   ],
   "source": [
    "_int = torch.einsum('bii->b',sigma.squeeze(1)@sigma.squeeze(0).T@S)\n",
    "\n",
    "value_for_varif = (X0@S[0]@X0.transpose(1,2) + torch.tensor(0.5)*dt_for_MC@(_int[1:]+_int[:-1]).unsqueeze(1)).squeeze()\n",
    "\n",
    "print(value_for_varif)"
   ]
  },
  {
   "cell_type": "code",
   "execution_count": 20,
   "id": "137b360e-2117-4b4d-ae9a-6c6d87d78bc1",
   "metadata": {
    "tags": []
   },
   "outputs": [],
   "source": [
    "J_list = torch.tensor([],dtype = torch.double)\n",
    "\n",
    "for iii in range(500):\n",
    "    J_sample = torch.tensor([],dtype = torch.double)\n",
    "    for ii in range(10):\n",
    "        X_0_N = X0\n",
    "        for i in range(N-1):\n",
    "            X_next = ((torch.eye(2)+ dt_for_MC[i]*(H + multpX@S[i]))@ X_0_N[i:].transpose(1,2)+sigma*torch.sqrt(dt_for_MC[i])*torch.randn(1)).transpose(1,2)\n",
    "            X_0_N = torch.cat((X_0_N, X_next), dim=0)\n",
    "\n",
    "        alp = multpalp@X_0_N.transpose(1,2)\n",
    "        int_ = alp.transpose(1,2)@D@alp + X_0_N@C@X_0_N.transpose(1,2)\n",
    "        J = X_0_N[-1]@R@X_0_N[-1].T + torch.tensor(0.5)*dt_for_MC@((int_.squeeze(1)[1:]+int_.squeeze(1)[:-1]))\n",
    "\n",
    "        J_sample = torch.cat((J_sample, J), dim = 0)\n",
    "\n",
    "    J_list = torch.cat((J_list,torch.mean(J_sample).unsqueeze(0)), dim = 0)"
   ]
  },
  {
   "cell_type": "code",
   "execution_count": 30,
   "id": "f686eb6d-29de-43f4-91de-9d35a8eca78d",
   "metadata": {
    "tags": []
   },
   "outputs": [
    {
     "name": "stdout",
     "output_type": "stream",
     "text": [
      "tensor([0.6933, 0.7322, 0.7548, 0.7564, 0.7906, 0.7995, 0.8108, 0.8267, 0.8486,\n",
      "        0.8515, 0.8546, 0.8587, 0.8632, 0.8795, 0.8913, 0.9102, 0.9129, 0.9173,\n",
      "        0.9244, 0.9376], dtype=torch.float64)\n"
     ]
    }
   ],
   "source": [
    "print(torch.sort(J_list)[0][:20])"
   ]
  },
  {
   "cell_type": "code",
   "execution_count": null,
   "id": "1079828e-49ec-44f7-858c-db80122f597d",
   "metadata": {},
   "outputs": [],
   "source": []
  }
 ],
 "metadata": {
  "kernelspec": {
   "display_name": "Python 3 (ipykernel)",
   "language": "python",
   "name": "python3"
  },
  "language_info": {
   "codemirror_mode": {
    "name": "ipython",
    "version": 3
   },
   "file_extension": ".py",
   "mimetype": "text/x-python",
   "name": "python",
   "nbconvert_exporter": "python",
   "pygments_lexer": "ipython3",
   "version": "3.11.5"
  }
 },
 "nbformat": 4,
 "nbformat_minor": 5
}
