{
 "cells": [
  {
   "cell_type": "markdown",
   "id": "4b03135c-635e-4232-8f7f-69939b7afce7",
   "metadata": {
    "tags": []
   },
   "source": [
    "# Exercise 1.1\n",
    "## This *.ipynb file contains:\n",
    "\n",
    "- `LQRsolver`: a class required to be written,which can be __initialised__ with default time horizon T = 1 (which can also take value from users' input) and with the matrices specifying the LQR problem which are:\n",
    "    - `H`(a `torch.Size([n,n])` `torch.tensor`): the linear relations of dynamics between the total `n` state processes.\n",
    "    - `M`(a `torch.Size([n,m])` `torch.tensor`): the influences from `m` control variables to `n` state processes. \n",
    "    - `sigma`(a `torch.Size([n,d])` `torch.tensor`): the diffusion matrix from `d` Wiener processes to `n` state processes.\n",
    "    - `C`(a `torch.Size([n,n])` `torch.tensor`): the contribution matrix from state processes to runnning reward.\n",
    "    - `D`(a `torch.Size([m,m])` `torch.tensor`): the contribution matrix from the final value of state processes to runnning reward.\n",
    "    - `R`(a `torch.Size([n,n])` `torch.tensor`): the contribution matrix from the final values of state processes to terminal reward.\n",
    "    \n",
    "    __Declaration for dimensions of matrices__:\n",
    "    Here `n` should be compatible with the dimension of state variable space and m is the dimension of control variable space.\n",
    "    Note that `n = m = 2` and `d = 1` in this exercise but can be extended to a higher dimension.\n",
    "\n",
    "    There are __3 main methods__ built in `LQRsolver` including\n",
    "\n",
    "    - `solve_riccati_ode`: __a numerical solver for Ricatti ODE__ which requires\n",
    "    \n",
    "        __input__ of\n",
    "    \n",
    "        - `time_grid` (a `torch.Size([l]) torch.Tensor`)\n",
    "        \n",
    "        and __returns__\n",
    "        \n",
    "        - the values of solution function $S(t)$ (a `torch.Size([l,n,n])` `torch.tensor`)\n",
    "        \n",
    "        (Two numerical methods are tried to be provided as options: Euler scheme and 4th order Runge-Kutta scheme)\n",
    "    \n",
    "    - `value_function`: __a computation of value function__ which requires\n",
    "        __inputs__ (in sequence) of \n",
    "        \n",
    "        - `t_batch`(a `torch.Size([batch_size])` `torch.tensor` whose entries took value initially from [0,1] but would be scaled by the given T in the further calculation)\n",
    "        - `x_batch`(a `torch.Size([batch_size,1,n])` `torch.tensor`)\n",
    "        \n",
    "        and __returns__\n",
    "        \n",
    "        - values of value_function (a `torch.Size([batch_size])` `torch.tensor`)\n",
    "        \n",
    "        \n",
    "    - `markov_control`: __a computation of Markov control function__ which requires\n",
    "        __inputs__ (in sequence) of \n",
    "        \n",
    "        - `t_batch`(a `torch.Size([batch_size])` `torch.tensor` whose entries took value initially from [0,1] but would be scaled by the given T in the further calculation)\n",
    "        - `x_batch`(a `torch.Size([batch_size,1,n])` `torch.tensor`)\n",
    "        \n",
    "        and __returns__\n",
    "        \n",
    "        - values of Markov_control_function (a `torch.Size([batch_size,n])` `torch.tensor`)\n",
    "        \n",
    "        \n",
    "        \n",
    "- __A runnable sample__ inclueding: \n",
    "    - a whole set of matrices for __initialisation__\n",
    "    - an example of __calculation of value function__ with given t_batch and x_batch\n",
    "    - an example of __calculation of Markov control function__ with given t_batch and x_batch\n"
   ]
  },
  {
   "cell_type": "code",
   "execution_count": 49,
   "id": "162558f0-cfdf-43af-b560-b59a0191ed63",
   "metadata": {
    "tags": []
   },
   "outputs": [],
   "source": [
    "import torch\n",
    "import numpy as np\n",
    "from scipy.interpolate import CubicSpline\n",
    "from concurrent.futures import ThreadPoolExecutor\n",
    "\n",
    "import warnings #for alarming some inappropriate inputs\n",
    "\n",
    "class LQRSolver:\n",
    "    #default numerical method is Euler.\n",
    "    #Euler and Runge-Kutta are supported in this code.\n",
    "    def __init__(self, H, M, sigma, C, D, R, T = 1, method=\"euler\"):\n",
    "        \n",
    "        if not self.is_semi_positive_definite(C):\n",
    "            raise ValueError(\"Matrix C must be semi-positive definite.\")\n",
    "        if not self.is_semi_positive_definite(R):\n",
    "            raise ValueError(\"Matrix R must be semi-positive definite.\")\n",
    "\n",
    "        if not self.is_positive_definite(D):\n",
    "            raise ValueError(\"Matrix D must be positive definite.\")\n",
    " \n",
    "\n",
    "        self.H = H\n",
    "        self.M = M\n",
    "        self.sigma = sigma\n",
    "        self.C = C\n",
    "        self.D = D\n",
    "        self.R = R\n",
    "        self.T = T\n",
    "        self.method = method \n",
    "    \n",
    "    def is_positive_definite(self, matrix):\n",
    "        \n",
    "        eigvals, _ = torch.linalg.eig(matrix)\n",
    "        real_parts = eigvals.real\n",
    "        return torch.all(real_parts > 0) \n",
    "\n",
    "    def is_semi_positive_definite(self, matrix):\n",
    "\n",
    "        eigvals, _ = torch.linalg.eig(matrix)\n",
    "        real_parts = eigvals.real\n",
    "        return torch.all(real_parts >= 0) \n",
    "\n",
    "    def solve_riccati_ode(self, time_grid):\n",
    "        \n",
    "        if not isinstance(time_grid, torch.Tensor):\n",
    "            raise TypeError(\"time_grid should be an 1-D torch.Tensor\")\n",
    "        else:\n",
    "            if not ((np.abs(time_grid[-1] - self.T) <= 1e-12) or (time_grid[0]>=0)):\n",
    "                raise Exception(\"Please ensure that the first entry of time_grid is 0 and the last entry is equal to T.\")\n",
    "            else:\n",
    "                time_grid_in = time_grid\n",
    "\n",
    "                    \n",
    "        time_grid_in = torch.flip(time_grid_in, dims=[0])\n",
    "        S = self.R.clone()\n",
    "        S_list = []\n",
    "        S_list.append(S)\n",
    "\n",
    "        for i in range(1, len(time_grid_in)):\n",
    "            dt = time_grid_in[i] - time_grid_in[i-1]\n",
    "            #Notice that here every dt is a negative value for backward scheme.\n",
    "            if self.method == \"euler\":\n",
    "                S = self.euler_step(S, dt)\n",
    "            elif self.method == \"rk4\":\n",
    "                S = self.rk4_step(S, dt)\n",
    "            else:\n",
    "                raise ValueError(\"Unsupported method\")\n",
    "            S_list.append(S)\n",
    "        \n",
    "        return torch.stack(S_list[::-1])\n",
    "\n",
    "    def euler_step(self, S, dt):\n",
    "        dS = -2 * self.H.T @ S + S @ self.M @ torch.inverse(self.D) @ self.M.T @ S - self.C\n",
    "        return S + dS * dt\n",
    "\n",
    "    def rk4_step(self, S, dt):\n",
    "        def riccati_derivative(S):\n",
    "            return -2 * self.H.T @ S + S @ self.M @ torch.inverse(self.D) @ self.M.T @ S - self.C\n",
    "        k1 = riccati_derivative(S)\n",
    "        k2 = riccati_derivative(S + 0.5 * dt * k1)\n",
    "        k3 = riccati_derivative(S + 0.5 * dt * k2)\n",
    "        k4 = riccati_derivative(S + dt * k3)\n",
    "\n",
    "        return S + (k1 + 2*k2 + 2*k3 + k4) * dt / 6\n",
    "\n",
    "    def value_function(self, t_batch, x_batch):\n",
    "\n",
    "        # Verify the shapes of the inputs.\n",
    "\n",
    "        if not (t_batch.dim() == 1 and torch.all((t_batch >= 0) & (t_batch <= 1))):\n",
    "            raise TypeError(\"t_batch should be a 1D tensor in which every entry is in [0,1].\")\n",
    "        else:\n",
    "            if not (x_batch.dim() == 3 and x_batch.size()[0] == len(t_batch) and x_batch.size()[1] == 1 and x_batch.size()[2] == self.H.size()[0]):\n",
    "                raise TypeError(\"x_batch should have shape (%d, 1, %d).\"%(len(t_batch),self.H.size(2)))\n",
    "        \n",
    "        time_grids = [torch.linspace(float(t), self.T, 5000, dtype=torch.float32) for t in t_batch]\n",
    "        \n",
    "        with ThreadPoolExecutor(max_workers=len(time_grids)) as executor:\n",
    "            S_tensor_list = list(executor.map(self.solve_riccati_ode, time_grids))\n",
    "        \n",
    "        S_tensor_tensor = torch.stack(S_tensor_list) \n",
    "        print(S_tensor_tensor.shape)\n",
    "        S_t_s = S_tensor_tensor[:, 0, :, :]\n",
    "        \n",
    "        x = x_batch.squeeze(1)\n",
    "        \n",
    "        xTSx = torch.einsum('bi, bij, bj -> b', x, S_t_s , x)\n",
    "        \n",
    "        time_grids_tensor = torch.stack(time_grids)\n",
    "\n",
    "        dts = time_grids_tensor[:, 1:] - time_grids_tensor[:, :-1]\n",
    "                    \n",
    "        sigma_sigma_T = self.sigma @ self.sigma.T\n",
    "\n",
    "        traces =torch.diagonal((sigma_sigma_T @ S_tensor_tensor[:, :-1]), dim1=-2, dim2=-1).sum(dim=-1)\n",
    "  \n",
    "        integral_part = torch.sum(traces * dts, dim=1)\n",
    "\n",
    "        v_tx = xTSx + integral_part\n",
    "        \n",
    "        return v_tx\n",
    "\n",
    "    def markov_control(self, t_batch, x_batch):\n",
    "        \n",
    "        # Verify the shapes of the inputs.\n",
    "\n",
    "        if not (t_batch.dim() == 1 and torch.all((t_batch >= 0) & (t_batch <= 1))):\n",
    "            raise TypeError(\"t_batch should be a 1D tensor in which every entry is in [0,1].\")\n",
    "        else:\n",
    "            if not (x_batch.dim() == 3 and x_batch.size()[0] == len(t_batch) and x_batch.size()[1] == 1 and x_batch.size()[2] == self.H.size()[0]):\n",
    "                raise TypeError(\"x_batch should have shape (%d, 1, %d).\"%(len(t_batch),self.H.size(2)))\n",
    "        \n",
    "        time_grids = [torch.linspace(float(t), self.T, 5000, dtype=torch.float32) for t in t_batch]\n",
    "        \n",
    "        with ThreadPoolExecutor(max_workers=len(time_grids)) as executor:\n",
    "            S_tensor_list = list(executor.map(self.solve_riccati_ode, time_grids))\n",
    "        \n",
    "        S_tensor_tensor = torch.stack(S_tensor_list) \n",
    "        \n",
    "        S_t_s = S_tensor_tensor[:, 0, :, :]\n",
    "\n",
    "        MT = self.M.T\n",
    "        D_inv = torch.inverse(self.D)\n",
    "        x = torch.transpose(x_batch,dim0 = 2,dim1 = 1)\n",
    "        a_tx = -D_inv @ MT @ S_t_s @x\n",
    "        a_tx = torch.transpose(a_tx,dim0 = 1,dim1 = 2).squeeze()\n",
    "\n",
    "        return a_tx"
   ]
  },
  {
   "cell_type": "code",
   "execution_count": 51,
   "id": "4dd6c40d-6d1f-42b8-b3ea-b6a8b24777f3",
   "metadata": {
    "tags": []
   },
   "outputs": [],
   "source": [
    "#Initialization\n",
    "H = torch.tensor([[1.0, 2.0], [-2.0, -3.0]], dtype=torch.float32)\n",
    "M = torch.tensor([[1.0,0.0], [0.0,1.0]], dtype=torch.float32)\n",
    "sigma = torch.tensor([[0.5], [0.5]], dtype=torch.float32)  \n",
    "C = torch.tensor([[2.0, 0.0], [0.0, 1.0]], dtype=torch.float32)  # Positive semi-definite\n",
    "D = torch.tensor([[1.0, 0.0], [0.0, 1.0]], dtype=torch.float32)  # Positive definite\n",
    "R = torch.tensor([[1.0, 0.0], [0.0, 1.0]], dtype=torch.float32)  # Positive semi-definite\n",
    "T = 5.0"
   ]
  },
  {
   "cell_type": "code",
   "execution_count": 53,
   "id": "87921136-9297-41af-bd3c-e856dd885dbf",
   "metadata": {
    "tags": []
   },
   "outputs": [],
   "source": [
    "solver = LQRSolver(H, M, sigma, C, D, R, T)"
   ]
  },
  {
   "cell_type": "code",
   "execution_count": 55,
   "id": "a491721b-d25f-4ec7-803e-7dc9515d09b0",
   "metadata": {
    "tags": []
   },
   "outputs": [],
   "source": [
    "t_batch = torch.tensor(np.linspace(0.1,0.9,20))\n",
    "x_batch = torch.rand([20,1,2])"
   ]
  },
  {
   "cell_type": "code",
   "execution_count": 57,
   "id": "cfea864c-699d-4c69-870e-62a12a961175",
   "metadata": {
    "tags": []
   },
   "outputs": [
    {
     "name": "stdout",
     "output_type": "stream",
     "text": [
      "torch.Size([20, 5000, 2, 2])\n"
     ]
    },
    {
     "data": {
      "text/plain": [
       "tensor([2.5316, 2.1126, 2.1881, 3.1743, 2.0243, 2.0091, 3.2592, 2.7073, 2.5760,\n",
       "        2.9174, 3.1114, 2.1092, 2.4862, 2.1161, 1.9975, 2.2175, 2.9050, 1.7916,\n",
       "        1.9471, 2.2321])"
      ]
     },
     "execution_count": 57,
     "metadata": {},
     "output_type": "execute_result"
    }
   ],
   "source": [
    "solver.value_function(t_batch, x_batch)"
   ]
  },
  {
   "cell_type": "code",
   "execution_count": 58,
   "id": "9f70ec6c-ea5f-4823-bfe9-c0a4764dea64",
   "metadata": {
    "tags": []
   },
   "outputs": [
    {
     "data": {
      "text/plain": [
       "tensor([[-0.6910, -0.4035],\n",
       "        [-0.0847, -0.0891],\n",
       "        [-0.2740, -0.1949],\n",
       "        [-1.1415, -0.6578],\n",
       "        [ 0.2075, -0.0274],\n",
       "        [ 0.2156, -0.0329],\n",
       "        [-1.3267, -0.7275],\n",
       "        [-0.9111, -0.5285],\n",
       "        [-0.6091, -0.4314],\n",
       "        [-1.1239, -0.6288],\n",
       "        [-1.1049, -0.6590],\n",
       "        [-0.0581, -0.1971],\n",
       "        [-0.6847, -0.4448],\n",
       "        [-0.4935, -0.3006],\n",
       "        [-0.2109, -0.1959],\n",
       "        [-0.5629, -0.3609],\n",
       "        [-0.7381, -0.5567],\n",
       "        [ 0.0994, -0.0258],\n",
       "        [-0.4669, -0.2647],\n",
       "        [-0.6868, -0.4146]])"
      ]
     },
     "execution_count": 58,
     "metadata": {},
     "output_type": "execute_result"
    }
   ],
   "source": [
    "solver.markov_control(t_batch, x_batch)"
   ]
  },
  {
   "cell_type": "code",
   "execution_count": null,
   "id": "b3d8c3ed-c3ae-4dca-a93e-cfbd179f5165",
   "metadata": {},
   "outputs": [],
   "source": []
  }
 ],
 "metadata": {
  "kernelspec": {
   "display_name": "Python 3 (ipykernel)",
   "language": "python",
   "name": "python3"
  },
  "language_info": {
   "codemirror_mode": {
    "name": "ipython",
    "version": 3
   },
   "file_extension": ".py",
   "mimetype": "text/x-python",
   "name": "python",
   "nbconvert_exporter": "python",
   "pygments_lexer": "ipython3",
   "version": "3.11.5"
  }
 },
 "nbformat": 4,
 "nbformat_minor": 5
}
