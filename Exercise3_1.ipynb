{
 "cells": [
  {
   "cell_type": "code",
   "execution_count": 1,
   "metadata": {},
   "outputs": [],
   "source": [
    "import torch\n",
    "import torch.nn as nn\n",
    "from Exercise1_1 import LQRSolver\n",
    "\n",
    "class DGMNet(nn.Module):\n",
    "    def __init__(self, input_dim, hidden_dim):\n",
    "        super(DGMNet, self).__init__()\n",
    "        self.input_dim = input_dim\n",
    "        self.hidden1 = nn.Linear(input_dim, hidden_dim)\n",
    "        self.hidden2 = nn.Linear(hidden_dim, hidden_dim)\n",
    "        self.output = nn.Linear(hidden_dim, 1)\n",
    "        self.activation = nn.Tanh()\n",
    "        \n",
    "    def forward(self, t, x):\n",
    "        inputs = torch.cat([t, x], dim=1)  # Concatenate t and x\n",
    "        x = self.activation(self.hidden1(inputs))\n",
    "        x = self.activation(self.hidden2(x))\n",
    "        return self.output(x)\n",
    "\n"
   ]
  },
  {
   "cell_type": "code",
   "execution_count": 2,
   "metadata": {},
   "outputs": [],
   "source": [
    "def compute_loss(model, t, x):\n",
    "    # Use autograd for derivatives\n",
    "    u = model(t, x)\n",
    "    u_t = torch.autograd.grad(u.sum(), t, create_graph=True)[0]\n",
    "    u_x = torch.autograd.grad(u.sum(), x, create_graph=True)[0]\n",
    "\n",
    "    # Compute second-order derivatives w.r.t. each spatial variable\n",
    "    u_xx = torch.zeros_like(u)\n",
    "    for i in range(x.size(1)):\n",
    "        u_xx += torch.autograd.grad(u_x[:, i:i+1].sum(), x, create_graph=True)[0][:, i:i+1]\n",
    "\n",
    "    # Example PDE residual: ∂u/∂t + Δu - cu = 0\n",
    "    c = torch.tensor(1.0)\n",
    "    residual = u_t + u_xx - c * u\n",
    "    return torch.mean(residual ** 2)\n"
   ]
  },
  {
   "cell_type": "code",
   "execution_count": 3,
   "metadata": {},
   "outputs": [],
   "source": [
    "def sample_points(num_samples, T, L):\n",
    "    t = (torch.rand(num_samples, 1, dtype = torch.double) * T).requires_grad_(True)\n",
    "    x = torch.cat([torch.rand(num_samples, 1, dtype = torch.double) * l for l in L], dim=1).requires_grad_(True)\n",
    "    return t, x\n",
    "\n"
   ]
  },
  {
   "cell_type": "code",
   "execution_count": 4,
   "metadata": {},
   "outputs": [
    {
     "name": "stdout",
     "output_type": "stream",
     "text": [
      "Epoch 0, Loss: 0.04430004020476433\n",
      "Epoch 50, Loss: 0.00022999352788597571\n",
      "Epoch 100, Loss: 5.8655271420391025e-05\n",
      "Epoch 150, Loss: 2.542910066191795e-05\n",
      "Epoch 200, Loss: 1.849015776882308e-05\n",
      "Epoch 250, Loss: 1.395339381673666e-05\n",
      "Epoch 300, Loss: 1.199625209809192e-05\n",
      "Epoch 350, Loss: 1.181681287640796e-05\n",
      "Epoch 400, Loss: 1.0073801799686382e-05\n",
      "Epoch 450, Loss: 8.120149531238523e-06\n",
      "Epoch 500, Loss: 7.253695998621053e-06\n"
     ]
    }
   ],
   "source": [
    "T = 1.0  # Time interval upper bound\n",
    "L = [2, 3]  # Spatial domain bounds for each dimension\n",
    "\n",
    "model = DGMNet(input_dim=1+len(L), hidden_dim=100).double()\n",
    "optimizer = torch.optim.Adam(model.parameters(), lr=0.001)\n",
    "\n",
    "for epoch in range(501):\n",
    "    t_samples, x_samples = sample_points(1000, T, L)\n",
    "    loss = compute_loss(model, t_samples, x_samples)\n",
    "\n",
    "    optimizer.zero_grad()\n",
    "    loss.backward()\n",
    "    optimizer.step()\n",
    "\n",
    "    if epoch % 50 == 0:\n",
    "        print(f'Epoch {epoch}, Loss: {loss.item()}')\n",
    "\n"
   ]
  },
  {
   "cell_type": "code",
   "execution_count": 65,
   "metadata": {},
   "outputs": [
    {
     "data": {
      "text/plain": [
       "DGMNet(\n",
       "  (hidden1): Linear(in_features=3, out_features=100, bias=True)\n",
       "  (hidden2): Linear(in_features=100, out_features=100, bias=True)\n",
       "  (output): Linear(in_features=100, out_features=1, bias=True)\n",
       "  (activation): Tanh()\n",
       ")"
      ]
     },
     "execution_count": 65,
     "metadata": {},
     "output_type": "execute_result"
    }
   ],
   "source": [
    "model.eval()"
   ]
  },
  {
   "cell_type": "code",
   "execution_count": 7,
   "metadata": {},
   "outputs": [],
   "source": [
    "# Define matrices for LQR problem\n",
    "H = torch.tensor([[1.2, 0.8], [-0.6, 0.9]], dtype=torch.double)\n",
    "M = torch.tensor([[0.5,0.7], [0.3,1.0]], dtype=torch.double)\n",
    "sigma = torch.tensor([[[0.8],[1.1]]], dtype=torch.double)\n",
    "C = torch.tensor([[1.6, 0.0], [0.0, 1.1]], dtype=torch.double)\n",
    "D = torch.tensor([[0.5, 0.0], [0.0, 0.7]], dtype=torch.double)\n",
    "R = torch.tensor([[0.9, 0.0], [0.0, 1.0]], dtype=torch.double)\n",
    "T = torch.tensor(1.0, dtype=torch.double)\n",
    "\n",
    "solver = LQRSolver(H, M, sigma, C, D, R, T=T, method=\"euler\")"
   ]
  },
  {
   "cell_type": "code",
   "execution_count": 8,
   "metadata": {},
   "outputs": [],
   "source": [
    "# Initialization\n",
    "\n",
    "t_ends = [0.1,0.9]\n",
    "t_num = 3\n",
    "x_ends = [[0.1,1.8],[0.1,2.7]]\n",
    "x_num = [100,100] # alleviate the calculation workload.\n",
    "\n",
    "# load_interval_setting = torch.load('Exercise1_2/value_numerical/?x?/'+'interval_setting.pt')\n",
    "# t_ends = load_interval_setting['t_ends']\n",
    "# t_num = load_interval_setting['t_num']\n",
    "# x_ends = load_interval_setting['x_ends']\n",
    "# x_num = load_interval_setting['x_num']\n",
    "\n",
    "\n",
    "# Establish meshgrid structure from setting.\n",
    "\n",
    "t_batch_i = torch.linspace(t_ends[0],t_ends[1],t_num,dtype=torch.double)\n",
    "t_batch = t_batch_i.repeat_interleave(x_num[0]*x_num[1])\n",
    "\n",
    "x1 = torch.linspace(x_ends[0][0],x_ends[0][1],x_num[0],dtype=torch.double)\n",
    "x2 = torch.linspace(x_ends[1][0],x_ends[1][1],x_num[1],dtype=torch.double)\n",
    "\n",
    "x_batch_i = torch.cartesian_prod(x1, x2).unsqueeze(1)\n",
    "\n",
    "X1 = x_batch_i[:, 0, 0].view(x_num[0], x_num[1])\n",
    "X2 = x_batch_i[:, 0, 1].view(x_num[0], x_num[1])\n",
    "\n",
    "x_batch = torch.cartesian_prod(x1, x2).unsqueeze(1).repeat(t_num, 1, 1)\n",
    "\n",
    "value_numerical = solver.value_function(t_batch,x_batch)\n"
   ]
  },
  {
   "cell_type": "code",
   "execution_count": 55,
   "metadata": {},
   "outputs": [
    {
     "data": {
      "text/plain": [
       "torch.Size([30000, 2])"
      ]
     },
     "execution_count": 55,
     "metadata": {},
     "output_type": "execute_result"
    }
   ],
   "source": [
    "x_batch.squeeze(1).shape"
   ]
  },
  {
   "cell_type": "code",
   "execution_count": 56,
   "metadata": {},
   "outputs": [
    {
     "data": {
      "text/plain": [
       "torch.Size([1000, 2])"
      ]
     },
     "execution_count": 56,
     "metadata": {},
     "output_type": "execute_result"
    }
   ],
   "source": [
    "x_samples.shape"
   ]
  },
  {
   "cell_type": "code",
   "execution_count": 60,
   "metadata": {},
   "outputs": [
    {
     "data": {
      "text/plain": [
       "torch.Size([30000, 1])"
      ]
     },
     "execution_count": 60,
     "metadata": {},
     "output_type": "execute_result"
    }
   ],
   "source": [
    "t_batch.unsqueeze(1).shape"
   ]
  },
  {
   "cell_type": "code",
   "execution_count": null,
   "metadata": {},
   "outputs": [],
   "source": [
    "A = model(t_batch, x_batch.squeeze(1))"
   ]
  },
  {
   "cell_type": "code",
   "execution_count": 9,
   "metadata": {},
   "outputs": [],
   "source": [
    "A = model(t_batch.unsqueeze(1), x_batch.squeeze(1))\n",
    "B = torch.abs(A - value_numerical)\n",
    "B"
   ]
  },
  {
   "cell_type": "code",
   "execution_count": 37,
   "metadata": {},
   "outputs": [
    {
     "data": {
      "text/plain": [
       "torch.Size([1000, 2])"
      ]
     },
     "execution_count": 37,
     "metadata": {},
     "output_type": "execute_result"
    }
   ],
   "source": [
    "t_samples.shape\n",
    "\n",
    "x_samples.shape"
   ]
  },
  {
   "cell_type": "code",
   "execution_count": 25,
   "metadata": {},
   "outputs": [
    {
     "ename": "TypeError",
     "evalue": "expected Tensor as element 1 in argument 0, but got ellipsis",
     "output_type": "error",
     "traceback": [
      "\u001b[1;31m---------------------------------------------------------------------------\u001b[0m",
      "\u001b[1;31mTypeError\u001b[0m                                 Traceback (most recent call last)",
      "Cell \u001b[1;32mIn[25], line 6\u001b[0m\n\u001b[0;32m      3\u001b[0m x_eval_grid \u001b[38;5;241m=\u001b[39m \u001b[38;5;241m.\u001b[39m\u001b[38;5;241m.\u001b[39m\u001b[38;5;241m.\u001b[39m  \u001b[38;5;66;03m# Create a grid of x values within the domain\u001b[39;00m\n\u001b[0;32m      5\u001b[0m \u001b[38;5;28;01mwith\u001b[39;00m torch\u001b[38;5;241m.\u001b[39mno_grad():\n\u001b[1;32m----> 6\u001b[0m     u_pred \u001b[38;5;241m=\u001b[39m model(t_eval, x_eval_grid)\n",
      "File \u001b[1;32mc:\\Users\\warre\\anaconda3\\Lib\\site-packages\\torch\\nn\\modules\\module.py:1511\u001b[0m, in \u001b[0;36mModule._wrapped_call_impl\u001b[1;34m(self, *args, **kwargs)\u001b[0m\n\u001b[0;32m   1509\u001b[0m     \u001b[38;5;28;01mreturn\u001b[39;00m \u001b[38;5;28mself\u001b[39m\u001b[38;5;241m.\u001b[39m_compiled_call_impl(\u001b[38;5;241m*\u001b[39margs, \u001b[38;5;241m*\u001b[39m\u001b[38;5;241m*\u001b[39mkwargs)  \u001b[38;5;66;03m# type: ignore[misc]\u001b[39;00m\n\u001b[0;32m   1510\u001b[0m \u001b[38;5;28;01melse\u001b[39;00m:\n\u001b[1;32m-> 1511\u001b[0m     \u001b[38;5;28;01mreturn\u001b[39;00m \u001b[38;5;28mself\u001b[39m\u001b[38;5;241m.\u001b[39m_call_impl(\u001b[38;5;241m*\u001b[39margs, \u001b[38;5;241m*\u001b[39m\u001b[38;5;241m*\u001b[39mkwargs)\n",
      "File \u001b[1;32mc:\\Users\\warre\\anaconda3\\Lib\\site-packages\\torch\\nn\\modules\\module.py:1520\u001b[0m, in \u001b[0;36mModule._call_impl\u001b[1;34m(self, *args, **kwargs)\u001b[0m\n\u001b[0;32m   1515\u001b[0m \u001b[38;5;66;03m# If we don't have any hooks, we want to skip the rest of the logic in\u001b[39;00m\n\u001b[0;32m   1516\u001b[0m \u001b[38;5;66;03m# this function, and just call forward.\u001b[39;00m\n\u001b[0;32m   1517\u001b[0m \u001b[38;5;28;01mif\u001b[39;00m \u001b[38;5;129;01mnot\u001b[39;00m (\u001b[38;5;28mself\u001b[39m\u001b[38;5;241m.\u001b[39m_backward_hooks \u001b[38;5;129;01mor\u001b[39;00m \u001b[38;5;28mself\u001b[39m\u001b[38;5;241m.\u001b[39m_backward_pre_hooks \u001b[38;5;129;01mor\u001b[39;00m \u001b[38;5;28mself\u001b[39m\u001b[38;5;241m.\u001b[39m_forward_hooks \u001b[38;5;129;01mor\u001b[39;00m \u001b[38;5;28mself\u001b[39m\u001b[38;5;241m.\u001b[39m_forward_pre_hooks\n\u001b[0;32m   1518\u001b[0m         \u001b[38;5;129;01mor\u001b[39;00m _global_backward_pre_hooks \u001b[38;5;129;01mor\u001b[39;00m _global_backward_hooks\n\u001b[0;32m   1519\u001b[0m         \u001b[38;5;129;01mor\u001b[39;00m _global_forward_hooks \u001b[38;5;129;01mor\u001b[39;00m _global_forward_pre_hooks):\n\u001b[1;32m-> 1520\u001b[0m     \u001b[38;5;28;01mreturn\u001b[39;00m forward_call(\u001b[38;5;241m*\u001b[39margs, \u001b[38;5;241m*\u001b[39m\u001b[38;5;241m*\u001b[39mkwargs)\n\u001b[0;32m   1522\u001b[0m \u001b[38;5;28;01mtry\u001b[39;00m:\n\u001b[0;32m   1523\u001b[0m     result \u001b[38;5;241m=\u001b[39m \u001b[38;5;28;01mNone\u001b[39;00m\n",
      "Cell \u001b[1;32mIn[19], line 14\u001b[0m, in \u001b[0;36mDGMNet.forward\u001b[1;34m(self, t, x)\u001b[0m\n\u001b[0;32m     13\u001b[0m \u001b[38;5;28;01mdef\u001b[39;00m \u001b[38;5;21mforward\u001b[39m(\u001b[38;5;28mself\u001b[39m, t, x):\n\u001b[1;32m---> 14\u001b[0m     inputs \u001b[38;5;241m=\u001b[39m torch\u001b[38;5;241m.\u001b[39mcat([t, x], dim\u001b[38;5;241m=\u001b[39m\u001b[38;5;241m1\u001b[39m)  \u001b[38;5;66;03m# Concatenate t and x\u001b[39;00m\n\u001b[0;32m     15\u001b[0m     x \u001b[38;5;241m=\u001b[39m \u001b[38;5;28mself\u001b[39m\u001b[38;5;241m.\u001b[39mactivation(\u001b[38;5;28mself\u001b[39m\u001b[38;5;241m.\u001b[39mhidden1(inputs))\n\u001b[0;32m     16\u001b[0m     x \u001b[38;5;241m=\u001b[39m \u001b[38;5;28mself\u001b[39m\u001b[38;5;241m.\u001b[39mactivation(\u001b[38;5;28mself\u001b[39m\u001b[38;5;241m.\u001b[39mhidden2(x))\n",
      "\u001b[1;31mTypeError\u001b[0m: expected Tensor as element 1 in argument 0, but got ellipsis"
     ]
    }
   ],
   "source": [
    "# Assume we're evaluating at specific t and across a grid in x\n",
    "t_eval = torch.tensor([[0.5]])  # Example: Evaluate at t=0.5\n",
    "x_eval_grid = ...  # Create a grid of x values within the domain\n",
    "\n",
    "with torch.no_grad():\n",
    "    u_pred = model(t_eval, x_eval_grid)\n",
    "    # Visualization or comparison code here\n"
   ]
  }
 ],
 "metadata": {
  "kernelspec": {
   "display_name": "base",
   "language": "python",
   "name": "python3"
  },
  "language_info": {
   "codemirror_mode": {
    "name": "ipython",
    "version": 3
   },
   "file_extension": ".py",
   "mimetype": "text/x-python",
   "name": "python",
   "nbconvert_exporter": "python",
   "pygments_lexer": "ipython3",
   "version": "3.11.7"
  }
 },
 "nbformat": 4,
 "nbformat_minor": 2
}
